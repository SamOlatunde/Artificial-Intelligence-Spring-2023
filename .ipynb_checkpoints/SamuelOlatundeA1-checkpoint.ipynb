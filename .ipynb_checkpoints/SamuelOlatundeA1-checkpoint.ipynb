{
 "cells": [
  {
   "cell_type": "markdown",
   "id": "c2d611b0",
   "metadata": {},
   "source": [
    "   # _Name: Samuel      &emsp;    Last Name: Olatunde    &emsp;&emsp;&emsp;&emsp;    Homework #1_"
   ]
  },
  {
   "cell_type": "markdown",
   "id": "bcf29f35",
   "metadata": {},
   "source": [
    "## This Program Implements linear regression and uses it to find an explicit formula for linear equation in the form y =mx + b. The program also uses the quadritic formula to solve any quadratic equation. "
   ]
  },
  {
   "cell_type": "markdown",
   "id": "aa51155c",
   "metadata": {},
   "source": [
    "### Function Definitions"
   ]
  },
  {
   "cell_type": "code",
   "execution_count": 2,
   "id": "0edf8400",
   "metadata": {},
   "outputs": [],
   "source": [
    "from math import sqrt\n",
    "\n",
    "##########################################################################\n",
    "#         Name: linearReg\n",
    "#      Parameters: X is list for x values, Y is list for y values, N is \n",
    "#                  total number of samples \n",
    "#  This function takes in the (x,y) samples of a linear eqaution and uses \n",
    "#  linear regression to predict/compute and return the slope and \n",
    "#  y-intercept of the linear equation \n",
    "##########################################################################\n",
    "def linearReg(X,Y, N):\n",
    "    \n",
    "    sumX = 0.0 # holds the summation of x\n",
    "    sumY = 0.0 # holds the summation of y\n",
    "    sum_X_square = 0.0 # holds the summation of (x**2)\n",
    "    sumXY = 0.0 # holds the summation of (x * y)\n",
    "    \n",
    "    # loop to perform summations \n",
    "    for i in range(N):\n",
    "        # sum up x\n",
    "        sumX += X[i]\n",
    "        \n",
    "        # sum up y\n",
    "        sumY += Y[i]\n",
    "        \n",
    "        # sum up (x**2)\n",
    "        sum_X_square += (X[i] ** 2)\n",
    "        \n",
    "        # sum up (x * y)\n",
    "        sumXY += X[i] * Y[i]\n",
    "        \n",
    "    # Computes the slope of the linear equation \n",
    "    m = ((N * sumXY)-(sumX * sumY))/((N * sum_X_square) - (sumX ** 2))\n",
    "    \n",
    "    # Computes the y intercept of the learn equation\n",
    "    b = ((sumY) - (m * sumX))/N\n",
    "    \n",
    "    return m,b\n",
    "\n",
    "\n",
    "\n",
    "##########################################################################\n",
    "#         Name: quadraticRoots\n",
    "#      Parameters: the constant coefficients of a quadratic, a,b, and c \n",
    "#  This function uses the quadratic formula to compute the roots of \n",
    "#  a quadratic equation. The function returns a dictionary that holds \n",
    "#  the roots. \n",
    "##########################################################################\n",
    "def quadraticRoots(a,b,c):\n",
    "    \n",
    "    #holds the determinant of the quadratic \n",
    "    determinant = float((b**2)-(4 * a * c))\n",
    "    \n",
    "    #solving the equation based on the nature of the determinant \n",
    "    if determinant < 0.0:\n",
    "        determinant *= -1\n",
    "        real = (-1 * b) / (2*a)\n",
    "        imag = (sqrt(determinant))/ (2 * a) \n",
    "   \n",
    "        print(\"A is {A},  B is {B}, C is {C}\".format(A=a,B=b,C=c))\n",
    "        print(\"There are two complex roots: {R:3.4f} +- {I:3.4f}i\".format(R= real, I = imag))\n",
    "        print(\"=====================================================================\\n\\n\")\n",
    "        return {\"case\":\"2 Complex\", \"x1\":{\"real\": real, \"imag\":imag}, \"x2\":{\"real\": real, \"imag\":(-1 * imag)}}\n",
    "                          \n",
    "    elif determinant == 0.0:\n",
    "        \n",
    "        real = (-1 * b) / (2*a)\n",
    "        \n",
    "        print(\"A is {A},  B is {B}, C is {C}\".format(A=a,B=b,C=c))\n",
    "        print(\"There is one real root: {R:3.4f}\".format(R= real))\n",
    "        print(\"=====================================================================\\n\\n\")\n",
    "        return {\"case\":\"1 Real\", \"x1\":{\"real\": real, \"imag\":0}, \"x2\":{\"real\": real, \"imag\":0}}\n",
    "                        \n",
    "    else:\n",
    "    \n",
    "        real1 = ((-1 * b) + (sqrt(determinant)) )/ (2*a)\n",
    "        real2 = ((-1 * b) - (sqrt(determinant)) )/ (2*a)\n",
    "   \n",
    "        print(\"A is {A},  B is {B}, C is {C}\".format(A=a,B=b,C=c))\n",
    "        print(\"There are two real roots: {R1:3.4f} and {R2:3.4f}\".format(R1= real1, R2 = real2))\n",
    "        print(\"=====================================================================\\n\\n\")\n",
    "        return {\"case\":\"2 Real\", \"x1\":{\"real\": real1, \"imag\":0}, \"x2\":{\"real\": real2, \"imag\":0}}\n",
    "        \n",
    "    "
   ]
  },
  {
   "cell_type": "markdown",
   "id": "4fcea986",
   "metadata": {},
   "source": [
    "<br>\n",
    "\n",
    "### Linear Regression"
   ]
  },
  {
   "cell_type": "code",
   "execution_count": 4,
   "id": "c2c88a3a",
   "metadata": {},
   "outputs": [
    {
     "name": "stdout",
     "output_type": "stream",
     "text": [
      "Linear Regression\n",
      "-------------------------\n",
      "\n",
      "Enter the number of (x,y) pairs you have: 3\n",
      "Enter (x,y) pairs below\n",
      "x:1\n",
      "y:2\n",
      "x:2\n",
      "y:4\n",
      "x:4\n",
      "y:8\n",
      "The slope is:      \t2.0000\n",
      "The y-intercept is:\t0.0000\n",
      "The equation that describes the system is: y = 2.0000x + 0.0000\n",
      "=====================================================================\n",
      "\n",
      "\n"
     ]
    }
   ],
   "source": [
    "print(\"Linear Regression\")\n",
    "print(\"-------------------------\\n\")\n",
    "\n",
    "X = [] #list to hold x values\n",
    "Y = [] #list to hold corresponding y values\n",
    "x = 0.0 #temp variable to hold x \n",
    "y = 0.0 #temp variable to hold y\n",
    "\n",
    "# Read in totoal number of samples from the user\n",
    "N = int (input(\"Enter the number of (x,y) pairs you have: \"))\n",
    "\n",
    "print (\"Enter (x,y) pairs below\")\n",
    "\n",
    "for i in range(N):\n",
    "    # read x value from the user and push it to the list \n",
    "    x = float(input(\"x:\"))\n",
    "    X.append(x)\n",
    "       \n",
    "    # read y value from the user and push it to the list \n",
    "    y = float(input(\"y:\"))\n",
    "    Y.append(y)\n",
    "    \n",
    "# Process the samples and return the slope(m) and y-intecept(b)\n",
    "m,b = linearReg(X,Y,N) \n",
    "   \n",
    "# Print result \n",
    "print (\"The slope is:      \\t{slope:3.4f}\".format(slope = m))\n",
    "print (\"The y-intercept is:\\t{yint:3.4f}\".format(yint = b))\n",
    "print (\"The equation that describes the system is: y = {slope:3.4f}x + {yint:3.4f}\".format(slope = m,yint = b))\n",
    "print(\"=====================================================================\\n\\n\")  "
   ]
  },
  {
   "cell_type": "markdown",
   "id": "5e662cbc",
   "metadata": {},
   "source": [
    "<br>\n",
    "\n",
    "### Quadratic Solver "
   ]
  },
  {
   "cell_type": "code",
   "execution_count": 9,
   "id": "5b1d969a",
   "metadata": {},
   "outputs": [
    {
     "name": "stdout",
     "output_type": "stream",
     "text": [
      "Quadratic Solver\n",
      "-------------------------\n",
      "\n",
      "Enter A: 1\n",
      "Enter B: 4\n",
      "Enter C: 5\n",
      "\n",
      "A is 1.0,  B is 4.0, C is 5.0\n",
      "There are two complex roots: -2.0000 +- 1.0000i\n",
      "=====================================================================\n",
      "\n",
      "\n"
     ]
    }
   ],
   "source": [
    "print(\"Quadratic Solver\")\n",
    "print(\"-------------------------\\n\")\n",
    "\n",
    "# prompt for, and read in constant coeeficients of quadratic \n",
    "a = float(input(\"Enter A: \"))\n",
    "b = float(input(\"Enter B: \"))\n",
    "c = float(input(\"Enter C: \"))\n",
    "print()\n",
    "\n",
    "# function displays root but also returns a dictionary the \n",
    "# holds the roots incase they are needed further down \n",
    "# the the program\n",
    "roots = quadraticRoots(a,b,c)"
   ]
  },
  {
   "cell_type": "code",
   "execution_count": null,
   "id": "e44c217b",
   "metadata": {},
   "outputs": [],
   "source": []
  }
 ],
 "metadata": {
  "kernelspec": {
   "display_name": "Python 3 (ipykernel)",
   "language": "python",
   "name": "python3"
  },
  "language_info": {
   "codemirror_mode": {
    "name": "ipython",
    "version": 3
   },
   "file_extension": ".py",
   "mimetype": "text/x-python",
   "name": "python",
   "nbconvert_exporter": "python",
   "pygments_lexer": "ipython3",
   "version": "3.9.12"
  }
 },
 "nbformat": 4,
 "nbformat_minor": 5
}
