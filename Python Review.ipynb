{
 "cells": [
  {
   "cell_type": "markdown",
   "id": "d55a13a7",
   "metadata": {},
   "source": [
    "## Basic Strings"
   ]
  },
  {
   "cell_type": "code",
   "execution_count": 1,
   "id": "2ba358d1",
   "metadata": {},
   "outputs": [
    {
     "data": {
      "text/plain": [
       "'Hello'"
      ]
     },
     "execution_count": 1,
     "metadata": {},
     "output_type": "execute_result"
    }
   ],
   "source": [
    "#This is a comment: String using single quotation marks\n",
    "'Hello'"
   ]
  },
  {
   "cell_type": "code",
   "execution_count": 2,
   "id": "a061e8fa",
   "metadata": {},
   "outputs": [],
   "source": [
    "t1 = (1,)"
   ]
  },
  {
   "cell_type": "code",
   "execution_count": 3,
   "id": "0474063e",
   "metadata": {},
   "outputs": [
    {
     "data": {
      "text/plain": [
       "(1,)"
      ]
     },
     "execution_count": 3,
     "metadata": {},
     "output_type": "execute_result"
    }
   ],
   "source": [
    "t1"
   ]
  },
  {
   "cell_type": "code",
   "execution_count": 4,
   "id": "e06f1aa9",
   "metadata": {},
   "outputs": [
    {
     "data": {
      "text/plain": [
       "2532607788848"
      ]
     },
     "execution_count": 4,
     "metadata": {},
     "output_type": "execute_result"
    }
   ],
   "source": [
    "id(t1)"
   ]
  },
  {
   "cell_type": "code",
   "execution_count": 5,
   "id": "d59c8ec5",
   "metadata": {},
   "outputs": [
    {
     "data": {
      "text/plain": [
       "2532607622976"
      ]
     },
     "execution_count": 5,
     "metadata": {},
     "output_type": "execute_result"
    }
   ],
   "source": [
    "t1 = (\"Mom\", 575, \"popeyes\", \"gazoo\", \"Mom\")\n",
    "\n",
    "id(t1)\n"
   ]
  },
  {
   "cell_type": "code",
   "execution_count": 6,
   "id": "8204cac4",
   "metadata": {},
   "outputs": [
    {
     "data": {
      "text/plain": [
       "0"
      ]
     },
     "execution_count": 6,
     "metadata": {},
     "output_type": "execute_result"
    }
   ],
   "source": [
    "t1.index(\"Mom\")"
   ]
  },
  {
   "cell_type": "code",
   "execution_count": 8,
   "id": "7c09e02e",
   "metadata": {},
   "outputs": [
    {
     "data": {
      "text/plain": [
       "2"
      ]
     },
     "execution_count": 8,
     "metadata": {},
     "output_type": "execute_result"
    }
   ],
   "source": [
    "t1.count(\"Mom\")"
   ]
  },
  {
   "cell_type": "code",
   "execution_count": 9,
   "id": "1b1f06f6",
   "metadata": {},
   "outputs": [
    {
     "data": {
      "text/plain": [
       "('Mom', 575, 'popeyes', 'gazoo', 'Mom')"
      ]
     },
     "execution_count": 9,
     "metadata": {},
     "output_type": "execute_result"
    }
   ],
   "source": [
    "t1[:]"
   ]
  },
  {
   "cell_type": "code",
   "execution_count": 10,
   "id": "fcebe34a",
   "metadata": {},
   "outputs": [
    {
     "data": {
      "text/plain": [
       "('Mom', 'popeyes', 'Mom')"
      ]
     },
     "execution_count": 10,
     "metadata": {},
     "output_type": "execute_result"
    }
   ],
   "source": [
    "t1[::-2]"
   ]
  },
  {
   "cell_type": "code",
   "execution_count": 11,
   "id": "45facfa8",
   "metadata": {},
   "outputs": [],
   "source": [
    "t1 = ('Mom', 575, 'popeyes', 'gazoo', 'Mo')"
   ]
  },
  {
   "cell_type": "code",
   "execution_count": 15,
   "id": "a1bb53a7",
   "metadata": {},
   "outputs": [
    {
     "data": {
      "text/plain": [
       "('sa', 'gazoo', 575)"
      ]
     },
     "execution_count": 15,
     "metadata": {},
     "output_type": "execute_result"
    }
   ],
   "source": [
    "t1[::-2]\n"
   ]
  },
  {
   "cell_type": "code",
   "execution_count": 13,
   "id": "5741c8ea",
   "metadata": {},
   "outputs": [],
   "source": [
    "t1 = ('Mom', 575, 'popeyes', 'gazoo', 'Mo', \"sa\")"
   ]
  },
  {
   "cell_type": "code",
   "execution_count": 14,
   "id": "20733e2d",
   "metadata": {},
   "outputs": [
    {
     "data": {
      "text/plain": [
       "('sa', 'gazoo', 575)"
      ]
     },
     "execution_count": 14,
     "metadata": {},
     "output_type": "execute_result"
    }
   ],
   "source": [
    "t1[::-2]"
   ]
  },
  {
   "cell_type": "code",
   "execution_count": 16,
   "id": "0fc78a86",
   "metadata": {},
   "outputs": [
    {
     "data": {
      "text/plain": [
       "('sa', 'Mo', 'gazoo', 'popeyes', 575, 'Mom')"
      ]
     },
     "execution_count": 16,
     "metadata": {},
     "output_type": "execute_result"
    }
   ],
   "source": [
    "t1[::-1]"
   ]
  },
  {
   "cell_type": "code",
   "execution_count": 17,
   "id": "f8f41d6c",
   "metadata": {},
   "outputs": [],
   "source": [
    "t2 = list(t1)"
   ]
  },
  {
   "cell_type": "code",
   "execution_count": 18,
   "id": "a17b4173",
   "metadata": {},
   "outputs": [
    {
     "data": {
      "text/plain": [
       "['Mom', 575, 'popeyes', 'gazoo', 'Mo', 'sa']"
      ]
     },
     "execution_count": 18,
     "metadata": {},
     "output_type": "execute_result"
    }
   ],
   "source": [
    "t2"
   ]
  },
  {
   "cell_type": "code",
   "execution_count": 19,
   "id": "4e75054b",
   "metadata": {},
   "outputs": [],
   "source": [
    "t1 = set(t1)"
   ]
  },
  {
   "cell_type": "code",
   "execution_count": 20,
   "id": "180ee363",
   "metadata": {},
   "outputs": [
    {
     "data": {
      "text/plain": [
       "{575, 'Mo', 'Mom', 'gazoo', 'popeyes', 'sa'}"
      ]
     },
     "execution_count": 20,
     "metadata": {},
     "output_type": "execute_result"
    }
   ],
   "source": [
    "t1\n"
   ]
  },
  {
   "cell_type": "code",
   "execution_count": 21,
   "id": "7710a115",
   "metadata": {},
   "outputs": [
    {
     "data": {
      "text/plain": [
       "('sa', 'Mo', 'gazoo', 'popeyes', 575, 'Mom', 'Mom')"
      ]
     },
     "execution_count": 21,
     "metadata": {},
     "output_type": "execute_result"
    }
   ],
   "source": [
    "t1 = ('sa', 'Mo', 'gazoo', 'popeyes', 575, 'Mom', \"Mom\")\n",
    "t1"
   ]
  },
  {
   "cell_type": "code",
   "execution_count": 22,
   "id": "5959bc78",
   "metadata": {},
   "outputs": [],
   "source": [
    "t1 = set(t1)"
   ]
  },
  {
   "cell_type": "code",
   "execution_count": 23,
   "id": "b812d173",
   "metadata": {},
   "outputs": [
    {
     "data": {
      "text/plain": [
       "{575, 'Mo', 'Mom', 'gazoo', 'popeyes', 'sa'}"
      ]
     },
     "execution_count": 23,
     "metadata": {},
     "output_type": "execute_result"
    }
   ],
   "source": [
    "t1"
   ]
  },
  {
   "cell_type": "code",
   "execution_count": 24,
   "id": "4ad240ec",
   "metadata": {},
   "outputs": [
    {
     "data": {
      "text/plain": [
       "{575, 'Mo', 'Mom', 'gazoo', 'get in my bag', 'popeyes', 'sa'}"
      ]
     },
     "execution_count": 24,
     "metadata": {},
     "output_type": "execute_result"
    }
   ],
   "source": [
    "t1.add(\"get in my bag\")\n",
    "t1\n"
   ]
  },
  {
   "cell_type": "code",
   "execution_count": 25,
   "id": "458ec57b",
   "metadata": {},
   "outputs": [],
   "source": [
    "t1.add(666.666)"
   ]
  },
  {
   "cell_type": "code",
   "execution_count": 26,
   "id": "34c038e5",
   "metadata": {},
   "outputs": [
    {
     "data": {
      "text/plain": [
       "{575, 666.666, 'Mo', 'Mom', 'gazoo', 'get in my bag', 'popeyes', 'sa'}"
      ]
     },
     "execution_count": 26,
     "metadata": {},
     "output_type": "execute_result"
    }
   ],
   "source": [
    "t1"
   ]
  },
  {
   "cell_type": "code",
   "execution_count": 27,
   "id": "e8a741eb",
   "metadata": {},
   "outputs": [
    {
     "data": {
      "text/plain": [
       "{575, 666.666, 'Mo', 'Mom', 'gazoo', 'get in my bag', 'popeyes', 'sa'}"
      ]
     },
     "execution_count": 27,
     "metadata": {},
     "output_type": "execute_result"
    }
   ],
   "source": [
    "t1.add(666.666)\n",
    "t1"
   ]
  },
  {
   "cell_type": "code",
   "execution_count": 29,
   "id": "8582f866",
   "metadata": {},
   "outputs": [],
   "source": [
    "t1.add(666.6660)"
   ]
  },
  {
   "cell_type": "code",
   "execution_count": 30,
   "id": "2b8c5a4a",
   "metadata": {},
   "outputs": [
    {
     "data": {
      "text/plain": [
       "{575, 666.666, 'Mo', 'Mom', 'gazoo', 'get in my bag', 'popeyes', 'sa'}"
      ]
     },
     "execution_count": 30,
     "metadata": {},
     "output_type": "execute_result"
    }
   ],
   "source": [
    "t1\n"
   ]
  },
  {
   "cell_type": "code",
   "execution_count": 31,
   "id": "651a8468",
   "metadata": {},
   "outputs": [
    {
     "data": {
      "text/plain": [
       "{575,\n",
       " 666.666,\n",
       " 666.66601,\n",
       " 'Mo',\n",
       " 'Mom',\n",
       " 'gazoo',\n",
       " 'get in my bag',\n",
       " 'popeyes',\n",
       " 'sa'}"
      ]
     },
     "execution_count": 31,
     "metadata": {},
     "output_type": "execute_result"
    }
   ],
   "source": [
    "t1.add(666.66601)\n",
    "t1"
   ]
  },
  {
   "cell_type": "code",
   "execution_count": 32,
   "id": "15b07a06",
   "metadata": {},
   "outputs": [
    {
     "data": {
      "text/plain": [
       "{575,\n",
       " 666.666,\n",
       " 666.66601,\n",
       " 'Mo',\n",
       " 'Mom',\n",
       " 'gazoo',\n",
       " 'get in my bag',\n",
       " 'popeyes',\n",
       " 'sa'}"
      ]
     },
     "execution_count": 32,
     "metadata": {},
     "output_type": "execute_result"
    }
   ],
   "source": [
    "t1\n"
   ]
  },
  {
   "cell_type": "code",
   "execution_count": 33,
   "id": "03014cef",
   "metadata": {},
   "outputs": [
    {
     "data": {
      "text/plain": [
       "{575,\n",
       " 666.666,\n",
       " 666.66601,\n",
       " 'Mo',\n",
       " 'Mom',\n",
       " 'gazoo',\n",
       " 'get in my bag',\n",
       " 'popeyes',\n",
       " 'sa'}"
      ]
     },
     "execution_count": 33,
     "metadata": {},
     "output_type": "execute_result"
    }
   ],
   "source": [
    "t1"
   ]
  },
  {
   "cell_type": "code",
   "execution_count": 34,
   "id": "a2321f2a",
   "metadata": {},
   "outputs": [
    {
     "data": {
      "text/plain": [
       "{575,\n",
       " 666.666,\n",
       " 666.66601,\n",
       " 'Mo',\n",
       " 'Mom',\n",
       " 'gazoo',\n",
       " 'get in my bag',\n",
       " 'popeyes',\n",
       " 'sa'}"
      ]
     },
     "execution_count": 34,
     "metadata": {},
     "output_type": "execute_result"
    }
   ],
   "source": [
    "t1.add(666.666000000000000001)\n",
    "t1"
   ]
  },
  {
   "cell_type": "code",
   "execution_count": 35,
   "id": "fa56aee0",
   "metadata": {},
   "outputs": [
    {
     "ename": "TypeError",
     "evalue": "set.pop() takes no arguments (1 given)",
     "output_type": "error",
     "traceback": [
      "\u001b[1;31m---------------------------------------------------------------------------\u001b[0m",
      "\u001b[1;31mTypeError\u001b[0m                                 Traceback (most recent call last)",
      "Input \u001b[1;32mIn [35]\u001b[0m, in \u001b[0;36m<cell line: 1>\u001b[1;34m()\u001b[0m\n\u001b[1;32m----> 1\u001b[0m \u001b[43mt1\u001b[49m\u001b[38;5;241;43m.\u001b[39;49m\u001b[43mpop\u001b[49m\u001b[43m(\u001b[49m\u001b[38;5;241;43m666.66600000000000001\u001b[39;49m\u001b[43m)\u001b[49m\n",
      "\u001b[1;31mTypeError\u001b[0m: set.pop() takes no arguments (1 given)"
     ]
    }
   ],
   "source": [
    "t1.pop(666.66600000000000001)"
   ]
  },
  {
   "cell_type": "code",
   "execution_count": 36,
   "id": "0ea97530",
   "metadata": {},
   "outputs": [
    {
     "ename": "TypeError",
     "evalue": "unbound method set.pop() needs an argument",
     "output_type": "error",
     "traceback": [
      "\u001b[1;31m---------------------------------------------------------------------------\u001b[0m",
      "\u001b[1;31mTypeError\u001b[0m                                 Traceback (most recent call last)",
      "Input \u001b[1;32mIn [36]\u001b[0m, in \u001b[0;36m<cell line: 1>\u001b[1;34m()\u001b[0m\n\u001b[1;32m----> 1\u001b[0m \u001b[38;5;28;43mset\u001b[39;49m\u001b[38;5;241;43m.\u001b[39;49m\u001b[43mpop\u001b[49m\u001b[43m(\u001b[49m\u001b[43m)\u001b[49m\n",
      "\u001b[1;31mTypeError\u001b[0m: unbound method set.pop() needs an argument"
     ]
    }
   ],
   "source": [
    "set.pop()"
   ]
  },
  {
   "cell_type": "code",
   "execution_count": 37,
   "id": "53951e11",
   "metadata": {},
   "outputs": [
    {
     "data": {
      "text/plain": [
       "'sa'"
      ]
     },
     "execution_count": 37,
     "metadata": {},
     "output_type": "execute_result"
    }
   ],
   "source": [
    "t1.pop()"
   ]
  },
  {
   "cell_type": "code",
   "execution_count": 1,
   "id": "90d22e57",
   "metadata": {},
   "outputs": [],
   "source": [
    "def p(n):\n",
    "    c = 0\n",
    "    for v in range(1,n+1):\n",
    "        if n % v ==0:\n",
    "            c+=1\n",
    "            if c >2:\n",
    "                print(\"not p\")\n",
    "                break\n",
    "    if c ==2:\n",
    "        print(\"p asf\")\n",
    "\n",
    "p(1)"
   ]
  },
  {
   "cell_type": "code",
   "execution_count": 2,
   "id": "06a24033",
   "metadata": {},
   "outputs": [],
   "source": [
    "p(1)"
   ]
  },
  {
   "cell_type": "code",
   "execution_count": 3,
   "id": "6f600900",
   "metadata": {},
   "outputs": [
    {
     "name": "stdout",
     "output_type": "stream",
     "text": [
      "p asf\n"
     ]
    }
   ],
   "source": [
    "p(2)\n"
   ]
  },
  {
   "cell_type": "code",
   "execution_count": null,
   "id": "6eebb34a",
   "metadata": {},
   "outputs": [],
   "source": []
  }
 ],
 "metadata": {
  "kernelspec": {
   "display_name": "Python 3 (ipykernel)",
   "language": "python",
   "name": "python3"
  },
  "language_info": {
   "codemirror_mode": {
    "name": "ipython",
    "version": 3
   },
   "file_extension": ".py",
   "mimetype": "text/x-python",
   "name": "python",
   "nbconvert_exporter": "python",
   "pygments_lexer": "ipython3",
   "version": "3.9.12"
  }
 },
 "nbformat": 4,
 "nbformat_minor": 5
}
